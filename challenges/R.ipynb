{
 "cells": [
  {
   "cell_type": "markdown",
   "id": "cd204330-0870-4145-82ef-0a311ab80e9b",
   "metadata": {},
   "source": [
    "# Questão 1"
   ]
  },
  {
   "cell_type": "code",
   "execution_count": null,
   "id": "5dd1c8e5-73a4-4cb4-9e52-0d5b6040122a",
   "metadata": {},
   "outputs": [],
   "source": [
    "data(\"airquality\")\n",
    "\n",
    "# Show dataset\n",
    "print(airquality)"
   ]
  },
  {
   "cell_type": "code",
   "execution_count": null,
   "id": "01b255c9-dd03-4499-aab9-5583e31da2ea",
   "metadata": {},
   "outputs": [],
   "source": [
    "# Show summary\n",
    "summary(airquality)"
   ]
  },
  {
   "cell_type": "code",
   "execution_count": null,
   "id": "c88bcafc-3fd1-474b-bb91-c5e24a54b5a8",
   "metadata": {},
   "outputs": [],
   "source": [
    "# str dataset\n",
    "str(airquality)"
   ]
  },
  {
   "cell_type": "code",
   "execution_count": null,
   "id": "2c4f7004-e69b-4cba-a492-477d4965cbc8",
   "metadata": {},
   "outputs": [],
   "source": [
    "# mounths to text\n",
    "airquality$Month <- factor(airquality$Month,\n",
    "                           levels = 5:9,  # Valores originais de Month (5 = Maio, ..., 9 = Setembro)\n",
    "                           labels = c(\"Maio\", \"Junho\", \"Julho\", \"Agosto\", \"Setembro\"))"
   ]
  },
  {
   "cell_type": "code",
   "execution_count": null,
   "id": "8a5ca1f1-a5ad-4221-a7ee-24107dd02047",
   "metadata": {},
   "outputs": [],
   "source": [
    "airquality"
   ]
  },
  {
   "cell_type": "code",
   "execution_count": null,
   "id": "8f9cabf3-4a15-4ce7-834f-1f53822ea799",
   "metadata": {},
   "outputs": [],
   "source": [
    "# Filtrar os dados para o mês de agosto (Month == 8)\n",
    "agosto_data <- subset(airquality, Month == \"Agosto\")\n",
    "\n",
    "# Encontrar o índice do maior valor de Ozone em agosto\n",
    "max_ozone_day <- agosto_data[which.max(agosto_data$Ozone), \"Day\"]\n",
    "\n",
    "# Mostrar o dia com o maior valor de Ozone\n",
    "max_ozone_day\n"
   ]
  },
  {
   "cell_type": "code",
   "execution_count": null,
   "id": "beb50291-56c6-407c-acac-0bcf701b4e82",
   "metadata": {},
   "outputs": [],
   "source": [
    "# Filtrar os dados para o mês de agosto (Month == \"Agosto\") e Ozone > 70\n",
    "agosto_ozone_maior_70 <- subset(airquality, Month == \"Agosto\" & Ozone > 70)\n",
    "\n",
    "# Visualizar o subconjunto\n",
    "agosto_ozone_maior_70"
   ]
  },
  {
   "cell_type": "code",
   "execution_count": null,
   "id": "05be0a1a-304e-479e-9309-8c5e6dec6547",
   "metadata": {},
   "outputs": [],
   "source": [
    "# Estatísticas descritivas para a variável Ozone, agrupada por mês\n",
    "estatisticas_ozone <- aggregate(Ozone ~ Month, data = airquality, FUN = summary)\n",
    "\n",
    "# Mostrar as estatísticas descritivas\n",
    "print(estatisticas_ozone)"
   ]
  },
  {
   "cell_type": "code",
   "execution_count": null,
   "id": "11047d1d-bc21-44f9-a591-3cad2134698a",
   "metadata": {},
   "outputs": [],
   "source": [
    "# Boxplot para Ozone, agrupado por Month\n",
    "boxplot(Ozone ~ Month, data = airquality,\n",
    "        main = \"Boxplot de Ozone por Mês\",\n",
    "        xlab = \"Mês\",\n",
    "        ylab = \"Valor de Ozone\",\n",
    "        col = \"lightblue\")"
   ]
  },
  {
   "cell_type": "markdown",
   "id": "b3bd22c0-b55d-462d-b051-2967771a66fc",
   "metadata": {},
   "source": [
    "# Questão 2"
   ]
  },
  {
   "cell_type": "code",
   "execution_count": null,
   "id": "252a22a1-dfc5-42d4-a18e-65ef0e2558e4",
   "metadata": {},
   "outputs": [],
   "source": [
    "# Dados da amostra\n",
    "amostra <- c(403.43, 382.84, 401.85, 396.40, 389.87, 397.46, 402.12, \n",
    "             406.28, 404.48, 411.89, 402.09, 407.59, 391.65, 389.81, \n",
    "             393.21, 409.04, 422.56, 401.36, 420.26, 423.46)\n",
    "\n",
    "# Estatísticas descritivas\n",
    "media_amostra <- mean(amostra)\n",
    "desvio_padrao <- sd(amostra)\n",
    "n <- length(amostra)\n",
    "\n",
    "cat(\"Média da amostra:\", media_amostra, \"\\n\")\n",
    "cat(\"Desvio padrão da amostra:\", desvio_padrao, \"\\n\")\n",
    "cat(\"Tamanho da amostra:\", n, \"\\n\")"
   ]
  },
  {
   "cell_type": "code",
   "execution_count": null,
   "id": "01942834-7499-4ee7-b507-7e12f63f0854",
   "metadata": {},
   "outputs": [],
   "source": [
    "# a) Realizar o teste t para uma amostra com média hipotética de 400 mg\n",
    "teste_t <- t.test(amostra, mu = 400)\n",
    "\n",
    "# Exibir o resultado do teste t\n",
    "print(teste_t)"
   ]
  },
  {
   "cell_type": "code",
   "execution_count": null,
   "id": "91fef40c-eede-4433-a542-7de52afbb4b4",
   "metadata": {},
   "outputs": [],
   "source": [
    "# b) Extrair o intervalo de confiança de 95%\n",
    "intervalo_conf <- teste_t$conf.int\n",
    "cat(\"Intervalo de confiança de 95%:\", intervalo_conf, \"\\n\")"
   ]
  },
  {
   "cell_type": "markdown",
   "id": "a045cf5a-f03a-4144-9211-6b8de70af07c",
   "metadata": {},
   "source": [
    "# Questão 3"
   ]
  },
  {
   "cell_type": "code",
   "execution_count": null,
   "id": "1e30b36f-81a1-44ed-b192-10c12ad8c0a7",
   "metadata": {},
   "outputs": [],
   "source": [
    "# if (!require(\"asbio\")) install.packages(\"asbio\")\n",
    "\n",
    "# se a instalacao do pacote asbio falhar\n",
    "install.packages(\"remotes\")\n",
    "remotes::install_github(\"mjskay/asbio\")"
   ]
  },
  {
   "cell_type": "code",
   "execution_count": null,
   "id": "be4ede5f-9850-4ae1-8308-361213e878c7",
   "metadata": {},
   "outputs": [],
   "source": [
    "# Carregar o pacote necessário\n",
    "library(\"asbio\", character.only = TRUE)\n",
    "\n",
    "# Carregar o dataset \"magnets\"\n",
    "data(\"magnets\")\n",
    "\n",
    "# Visualizar as primeiras linhas do dataset\n",
    "head(magnets)"
   ]
  },
  {
   "cell_type": "code",
   "execution_count": null,
   "id": "e7fbbb14-61a0-4c1e-9c44-50b124f26781",
   "metadata": {},
   "outputs": [],
   "source": [
    "# Criar uma nova variável que representa a diferença entre os scores antes e após o tratamento\n",
    "magnets$dif_score <- magnets$Score_1 - magnets$Score_2\n",
    "\n",
    "# Verificar a estrutura dos dados\n",
    "print(magnets)"
   ]
  },
  {
   "cell_type": "code",
   "execution_count": null,
   "id": "3d1e707a-4a12-4eb1-8143-75b5008e4502",
   "metadata": {},
   "outputs": [],
   "source": [
    "# Separar os dados por grupo (magnetos e placebo)\n",
    "dif_magnetos <- subset(magnets, Active == \"Magnet\")$dif_score\n",
    "dif_placebo <- subset(magnets, Active == \"Placebo\")$dif_score"
   ]
  },
  {
   "cell_type": "code",
   "execution_count": null,
   "id": "b0dd23c9-d55c-47c6-a71c-a01b050bcb12",
   "metadata": {},
   "outputs": [],
   "source": [
    "# Verificar a homogeneidade de variâncias (utilizando o teste de Levene)\n",
    "if (!require(\"car\")) install.packages(\"car\") # Biblioteca Companion to Applied Regression"
   ]
  },
  {
   "cell_type": "code",
   "execution_count": null,
   "id": "69bc8582-1e36-44b1-aee6-45b073ad5266",
   "metadata": {},
   "outputs": [],
   "source": [
    "library(\"car\", character.only = TRUE)\n",
    "\n",
    "# leveneTest pertence a biblioteca \"car\"\n",
    "# O teste de Levene verifica se as variâncias dos dois grupos são homogêneas.\n",
    "leveneTest(magnets$dif_score ~ magnets$group)"
   ]
  },
  {
   "cell_type": "code",
   "execution_count": null,
   "id": "b45c63b3-e669-4d6d-941d-c7ee00014739",
   "metadata": {},
   "outputs": [],
   "source": [
    "# Realizar o teste t de amostras independentes (com variância igual ou desigual dependendo do resultado anterior)\n",
    "teste_t <- t.test(dif_magnetos, dif_placebo, var.equal = TRUE, alternative = \"greater\")\n",
    "\n",
    "# Exibir o resultado do teste t\n",
    "print(teste_t)"
   ]
  },
  {
   "cell_type": "markdown",
   "id": "860b9932-5725-454d-817c-e99ec32555f5",
   "metadata": {},
   "source": [
    "# Questão 4"
   ]
  },
  {
   "cell_type": "code",
   "execution_count": null,
   "id": "072bd3cf-d564-46ff-8a83-bf4486c9bb98",
   "metadata": {},
   "outputs": [],
   "source": [
    "# Depende da biblioteca \"asbio\"\n",
    "# Carregar o dataset \"webs\"\n",
    "data(\"webs\")\n",
    "\n",
    "# Visualizar as primeiras linhas do dataset para entender a estrutura\n",
    "head(webs)"
   ]
  },
  {
   "cell_type": "code",
   "execution_count": null,
   "id": "f0f19b48-8227-4042-bf47-26a7254793df",
   "metadata": {},
   "outputs": [],
   "source": [
    "# a) Gráfico de dispersão\n",
    "plot(webs$temp.C, webs$length, \n",
    "     xlab = \"Temperatura (°C)\", \n",
    "     ylab = \"Comprimento dos Fios da Teia\",\n",
    "     main = \"Gráfico de Dispersão: Comprimento vs. Temperatura\",\n",
    "     pch = 19, col = \"blue\")\n",
    "\n",
    "# Adicionando uma linha de tendência (regressão linear)\n",
    "abline(lm(webs$length ~ webs$temp.C), col = \"red\", lwd = 2)\n",
    "\n",
    "# O gráfico de dispersão mostra a relação entre a temperatura e o comprimento dos fios de teia. \n",
    "# A linha de tendência nos ajuda a ver se há uma correlação linear entre as duas variáveis."
   ]
  },
  {
   "cell_type": "code",
   "execution_count": null,
   "id": "4e168741-45d5-4f93-81b1-db2a783a0aa6",
   "metadata": {},
   "outputs": [],
   "source": [
    "# b) Ajustar o modelo de regressão linear\n",
    "modelo <- lm(length ~ temp.C, data = webs)\n",
    "\n",
    "# modelo ajustado\n",
    "head(modelo)"
   ]
  },
  {
   "cell_type": "code",
   "execution_count": null,
   "id": "3a4a6cbf-b683-4906-8481-5d11e1abe845",
   "metadata": {},
   "outputs": [],
   "source": [
    "# c) Extraindo as variáveis\n",
    "x <- webs$temp.C\n",
    "y <- webs$length\n",
    "\n",
    "# Calculando os parâmetros\n",
    "beta1 <- sum((x - mean(x)) * (y - mean(y))) / sum((x - mean(x))^2)\n",
    "beta0 <- mean(y) - beta1 * mean(x)\n",
    "\n",
    "# Exibindo os resultados\n",
    "cat(\"Beta0 (intercepto):\", beta0, \"\\n\")\n",
    "cat(\"Beta1 (coeficiente):\", beta1, \"\\n\")"
   ]
  },
  {
   "cell_type": "code",
   "execution_count": null,
   "id": "9250674f-84ce-4d50-be1e-42a954d88cd9",
   "metadata": {},
   "outputs": [],
   "source": [
    "# d) Gráfico de resíduos vs. valores ajustados\n",
    "plot(modelo$fitted.values, modelo$residuals,\n",
    "     xlab = \"Valores Ajustados\",\n",
    "     ylab = \"Resíduos\",\n",
    "     main = \"Resíduos vs. Valores Ajustados\",\n",
    "     pch = 19, col = \"purple\")\n",
    "abline(h = 0, col = \"red\")"
   ]
  },
  {
   "cell_type": "code",
   "execution_count": null,
   "id": "fc352d2e-cb21-4684-9fec-42cedb6fd713",
   "metadata": {},
   "outputs": [],
   "source": [
    "# Teste de normalidade dos resíduos (Shapiro-Wilk)\n",
    "shapiro.test(modelo$residuals)"
   ]
  },
  {
   "cell_type": "code",
   "execution_count": null,
   "id": "62ff258b-cdc1-43e2-bf40-e6e2072bedbd",
   "metadata": {},
   "outputs": [],
   "source": [
    "# Histograma dos resíduos\n",
    "hist(modelo$residuals, main = \"Histograma dos Resíduos\", xlab = \"Resíduos\", col = \"lightgreen\")"
   ]
  },
  {
   "cell_type": "code",
   "execution_count": null,
   "id": "a4074ce3-1d45-4350-8553-8706ebd3590f",
   "metadata": {},
   "outputs": [],
   "source": [
    "# Gráfico Q-Q para normalidade\n",
    "qqnorm(modelo$residuals)\n",
    "qqline(modelo$residuals, col = \"red\")"
   ]
  },
  {
   "cell_type": "markdown",
   "id": "b6bd93b6-b245-4bd1-8c7e-c9af8ed8e4e6",
   "metadata": {},
   "source": [
    "# Questão 5"
   ]
  },
  {
   "cell_type": "code",
   "execution_count": null,
   "id": "90ccbc09-2115-4c6d-b2c4-4dcc399cab52",
   "metadata": {},
   "outputs": [],
   "source": [
    "# Carregar os pacotes necessários\n",
    "if (!require(\"car\")) install.packages(\"car\")\n",
    "if (!require(\"emmeans\")) install.packages(\"emmeans\")"
   ]
  },
  {
   "cell_type": "code",
   "execution_count": null,
   "id": "dafe867f-e5ae-42a3-9b7c-17f4052d6d0c",
   "metadata": {},
   "outputs": [],
   "source": [
    "library(\"car\", character.only = TRUE)\n",
    "library(\"emmeans\", character.only = TRUE)"
   ]
  },
  {
   "cell_type": "code",
   "execution_count": null,
   "id": "97bcecd5-fc21-41d8-bbe6-d8993cf647a9",
   "metadata": {},
   "outputs": [],
   "source": [
    "# Criar o dataframe a partir dos dados fornecidos\n",
    "profundidade <- c(93, 120, 65, 105, 115, 82, 99, 87, 100, 90, 78, 95, 93, 88, 110,\n",
    "                  85, 45, 80, 28, 75, 70, 65, 55, 50, 40, 45, 55,\n",
    "                  100, 75, 65, 40, 73, 65, 50, 30, 45, 50,\n",
    "                  96, 58, 95, 90, 65, 80, 85, 95, 82)\n",
    "\n",
    "local <- c(rep(\"Local_1\", 15), rep(\"Local_2\", 12), rep(\"Local_3\", 10), rep(\"Local_4\", 9))\n",
    "\n",
    "# Montar o dataframe\n",
    "df <- data.frame(profundidade, local)\n",
    "\n",
    "# Visualizar o dataframe\n",
    "head(df)"
   ]
  },
  {
   "cell_type": "code",
   "execution_count": null,
   "id": "8ea8d9d3-f363-485c-aeff-08cdd64a5781",
   "metadata": {},
   "outputs": [],
   "source": [
    "# Ajustar o modelo de regressão linear\n",
    "modelo_anova <- lm(profundidade ~ local, data = df)\n",
    "\n",
    "head(modelo_anova)"
   ]
  },
  {
   "cell_type": "code",
   "execution_count": null,
   "id": "b0c00981-0a13-4f15-93f7-44de738afa6a",
   "metadata": {},
   "outputs": [],
   "source": [
    "# Obter a tabela ANOVA usando a função Anova() do pacote 'car'\n",
    "anova_result <- Anova(modelo_anova)\n",
    "print(anova_result)"
   ]
  },
  {
   "cell_type": "code",
   "execution_count": null,
   "id": "6762253d-e2d7-4c48-ac1d-4047b4b2150c",
   "metadata": {},
   "outputs": [],
   "source": [
    "# Realizar múltiplas comparações de pares de médias\n",
    "comparacoes <- emmeans(modelo_anova, pairwise ~ local)\n",
    "print(comparacoes)"
   ]
  },
  {
   "cell_type": "code",
   "execution_count": null,
   "id": "1f4de89c-cb53-4dd1-b76c-77b28546cd1e",
   "metadata": {},
   "outputs": [],
   "source": [
    "# Gráfico de resíduos vs. valores ajustados\n",
    "plot(modelo_anova$fitted.values, modelo_anova$residuals,\n",
    "     xlab = \"Valores Ajustados\", \n",
    "     ylab = \"Resíduos\",\n",
    "     main = \"Resíduos vs. Valores Ajustados\",\n",
    "     pch = 19, col = \"blue\")\n",
    "abline(h = 0, col = \"red\")"
   ]
  },
  {
   "cell_type": "code",
   "execution_count": null,
   "id": "4280ad03-d683-4fe3-afc0-d04b93db565f",
   "metadata": {},
   "outputs": [],
   "source": [
    "# Teste de normalidade dos resíduos (Shapiro-Wilk)\n",
    "shapiro_test <- shapiro.test(modelo_anova$residuals)\n",
    "print(shapiro_test)"
   ]
  },
  {
   "cell_type": "code",
   "execution_count": null,
   "id": "611102c9-f380-4bf4-9103-fdb67ce81d56",
   "metadata": {},
   "outputs": [],
   "source": [
    "# Gráfico Q-Q para normalidade\n",
    "qqnorm(modelo_anova$residuals)\n",
    "qqline(modelo_anova$residuals, col = \"red\")"
   ]
  },
  {
   "cell_type": "code",
   "execution_count": null,
   "id": "98eeefcb-ab45-4b02-aa82-0854d6a94031",
   "metadata": {},
   "outputs": [],
   "source": [
    "# Teste de homogeneidade de variâncias (Levene)\n",
    "levene_test <- leveneTest(profundidade ~ local, data = df)\n",
    "print(levene_test)"
   ]
  },
  {
   "cell_type": "markdown",
   "id": "5ece0753-f371-46df-a0c6-b1fa2a030d0a",
   "metadata": {},
   "source": [
    "# Questão 6"
   ]
  },
  {
   "cell_type": "code",
   "execution_count": null,
   "id": "f8d8d59b-490d-4f55-8c9d-6f58fccdf056",
   "metadata": {},
   "outputs": [],
   "source": [
    "# Instalar pacotes necessários\n",
    "if (!require(\"MASS\")) install.packages(\"MASS\")\n",
    "if (!require(\"leaps\")) install.packages(\"leaps\")\n",
    "if (!require(\"car\")) install.packages(\"car\")"
   ]
  },
  {
   "cell_type": "code",
   "execution_count": null,
   "id": "23308a40-ea8c-492e-bada-d97978a75919",
   "metadata": {},
   "outputs": [],
   "source": [
    "# Carregar os pacotes\n",
    "library(\"MASS\", character.only = TRUE)\n",
    "library(\"leaps\", character.only = TRUE)\n",
    "library(\"car\", character.only = TRUE)"
   ]
  },
  {
   "cell_type": "code",
   "execution_count": null,
   "id": "799927ad-31dd-49a3-8aa7-32058c4edc55",
   "metadata": {},
   "outputs": [],
   "source": [
    "# 6.1 Importar os dados\n",
    "# o arquivo ozone.txt precisa estar na mesma pasta que este arquivo\n",
    "ozone_data <- read.table(\"ozone.txt\", header = TRUE)"
   ]
  },
  {
   "cell_type": "code",
   "execution_count": null,
   "id": "2fc8cb92-b5bf-4e4a-9e93-9b9fc5643fa8",
   "metadata": {},
   "outputs": [],
   "source": [
    "# Verificar a estrutura dos dados\n",
    "str(ozone_data)"
   ]
  },
  {
   "cell_type": "code",
   "execution_count": null,
   "id": "145e899a-82df-44c1-947f-a297ba16d990",
   "metadata": {},
   "outputs": [],
   "source": [
    "# Resumo estatístico dos dados\n",
    "summary(ozone_data)"
   ]
  },
  {
   "cell_type": "code",
   "execution_count": null,
   "id": "be4b290e-8dec-473d-b85f-28e9a70e7a94",
   "metadata": {},
   "outputs": [],
   "source": [
    "# Selecionar apenas as variáveis contínuas para a correlação\n",
    "continuous_vars <- ozone_data[, c(\"maxO3\", \"T9\", \"T12\", \"T15\", \"Ne9\", \"Ne12\", \"Ne15\", \"Wx9\", \"Wx12\", \"Wx15\", \"maxO3y\")]\n",
    "\n",
    "# Obter a matriz de correlação\n",
    "cor_matrix <- cor(continuous_vars, use = \"complete.obs\")\n",
    "print(cor_matrix)"
   ]
  },
  {
   "cell_type": "code",
   "execution_count": null,
   "id": "8c09a237-2448-4a2e-bcee-bbb251cb3bde",
   "metadata": {},
   "outputs": [],
   "source": [
    "# Gráfico de dispersão para as variáveis contínuas\n",
    "pairs(continuous_vars, main = \"Scatterplot Matrix - Variáveis Contínuas\", col = \"blue\")"
   ]
  },
  {
   "cell_type": "code",
   "execution_count": null,
   "id": "66ada0ef-d9db-4698-b0f2-db879ac483f0",
   "metadata": {},
   "outputs": [],
   "source": [
    "# 6.2 Ajustar o modelo de regressão linear com todas as variáveis explicativas\n",
    "modelo_ozone <- lm(maxO3 ~ T9 + T12 + T15 + Ne9 + Ne12 + Ne15 + Wx9 + Wx12 + Wx15 + maxO3y, data = ozone_data)\n",
    "\n",
    "# Resumo do modelo\n",
    "summary(modelo_ozone)"
   ]
  },
  {
   "cell_type": "code",
   "execution_count": null,
   "id": "de8bf1f1-2548-43b1-aad0-ad98d6804526",
   "metadata": {},
   "outputs": [],
   "source": [
    "# 6.3 Método Stepwise usando stepAIC\n",
    "stepwise_model <- stepAIC(modelo_ozone, direction = \"both\")\n",
    "summary(stepwise_model)"
   ]
  },
  {
   "cell_type": "code",
   "execution_count": null,
   "id": "312bfec2-6079-44e1-8bea-4c8bc079626a",
   "metadata": {},
   "outputs": [],
   "source": [
    "# Ajustar todas as regressões possíveis\n",
    "library(\"leaps\", character.only = TRUE)\n",
    "reg_model <- regsubsets(maxO3 ~ T9 + T12 + T15 + Ne9 + Ne12 + Ne15 + Wx9 + Wx12 + Wx15 + maxO3y, data = ozone_data, nvmax = 10)\n",
    "\n",
    "# Resumo do modelo\n",
    "reg_summary <- summary(reg_model)\n",
    "\n",
    "# Visualizar os melhores modelos\n",
    "print(reg_summary$which)"
   ]
  },
  {
   "cell_type": "code",
   "execution_count": null,
   "id": "0d26e561-1a85-4b56-8076-7ceeba010813",
   "metadata": {},
   "outputs": [],
   "source": [
    "# Ajustar o modelo final com as variáveis selecionadas\n",
    "final_model <- stepwise_model\n",
    "\n",
    "# Gráfico de resíduos vs. valores ajustados\n",
    "plot(final_model$fitted.values, final_model$residuals,\n",
    "     xlab = \"Valores Ajustados\", ylab = \"Resíduos\",\n",
    "     main = \"Resíduos vs. Valores Ajustados\",\n",
    "     pch = 19, col = \"blue\")\n",
    "abline(h = 0, col = \"red\")"
   ]
  },
  {
   "cell_type": "code",
   "execution_count": null,
   "id": "ee342a58-b952-4485-9a89-9e342941083c",
   "metadata": {},
   "outputs": [],
   "source": [
    "# Gráfico Q-Q para normalidade dos resíduos\n",
    "qqnorm(final_model$residuals)\n",
    "qqline(final_model$residuals, col = \"red\")"
   ]
  },
  {
   "cell_type": "code",
   "execution_count": null,
   "id": "b1e5f687-f087-4349-a86e-129850d7f453",
   "metadata": {},
   "outputs": [],
   "source": [
    "# Teste de normalidade (Shapiro-Wilk)\n",
    "shapiro_test <- shapiro.test(final_model$residuals)\n",
    "print(shapiro_test)"
   ]
  },
  {
   "cell_type": "code",
   "execution_count": null,
   "id": "3bb7527f-2284-4643-be82-41862343a24f",
   "metadata": {},
   "outputs": [],
   "source": [
    "# Teste de homocedasticidade (Teste de Breusch-Pagan)\n",
    "library(\"lmtest\", character.only = TRUE)\n",
    "bptest(final_model)"
   ]
  },
  {
   "cell_type": "markdown",
   "id": "1a51452d-25ea-4931-b04b-09c10d1dda56",
   "metadata": {},
   "source": [
    "# Questão 7"
   ]
  },
  {
   "cell_type": "code",
   "execution_count": null,
   "id": "876153bd-fb5c-4ab0-a6ea-b71d0b967769",
   "metadata": {},
   "outputs": [],
   "source": [
    "# Criar o dataframe com os dados fornecidos\n",
    "dados_trigo <- data.frame(\n",
    "  variedades = rep(c(\"Trocadero\", \"Kumberri\", \"Bokaro\"), each = 5),\n",
    "  bloco = rep(c(\"Bloco I\", \"Bloco II\", \"Bloco III\", \"Bloco IV\", \"Bloco V\"), times = 3),\n",
    "  peso = c(249, 313, 388, 487, 350,   # Trocadero\n",
    "           304, 354, 421, 459, 430,   # Kumberri\n",
    "           234, 290, 335, 410, 341)   # Bokaro\n",
    ")\n",
    "\n",
    "# Visualizar o dataframe\n",
    "print(dados_trigo)"
   ]
  },
  {
   "cell_type": "code",
   "execution_count": null,
   "id": "fb31eefd-388a-422b-98d8-c5fa07464d7f",
   "metadata": {},
   "outputs": [],
   "source": [
    "# Ajustar o modelo de ANOVA com variedades e blocos\n",
    "modelo_anova <- aov(peso ~ variedades + bloco, data = dados_trigo)\n",
    "\n",
    "# Resumo da ANOVA\n",
    "summary(modelo_anova)"
   ]
  },
  {
   "cell_type": "code",
   "execution_count": null,
   "id": "20eca701-2412-4beb-a5f7-3039edb20879",
   "metadata": {},
   "outputs": [],
   "source": [
    "# Obter os resíduos do modelo\n",
    "residuos <- residuals(modelo_anova)\n",
    "\n",
    "# Gráfico de resíduos vs. valores ajustados\n",
    "plot(modelo_anova$fitted.values, residuos,\n",
    "     xlab = \"Valores Ajustados\", ylab = \"Resíduos\",\n",
    "     main = \"Resíduos vs. Valores Ajustados\",\n",
    "     pch = 19, col = \"blue\")\n",
    "abline(h = 0, col = \"red\")"
   ]
  },
  {
   "cell_type": "code",
   "execution_count": null,
   "id": "f53b9096-7f94-4da2-a351-6b63d77408ea",
   "metadata": {},
   "outputs": [],
   "source": [
    "# Gráfico Q-Q para verificar normalidade\n",
    "qqnorm(residuos)\n",
    "qqline(residuos, col = \"red\")"
   ]
  },
  {
   "cell_type": "code",
   "execution_count": null,
   "id": "7bdbd1b1-3983-417e-bc20-e9822bc96a30",
   "metadata": {},
   "outputs": [],
   "source": [
    "# Teste de normalidade (Shapiro-Wilk)\n",
    "shapiro_test <- shapiro.test(residuos)\n",
    "print(shapiro_test)"
   ]
  },
  {
   "cell_type": "code",
   "execution_count": null,
   "id": "2cf7db02-a9e8-47f1-a913-ef900c09c938",
   "metadata": {},
   "outputs": [],
   "source": [
    "# Instalar e carregar o pacote lmtest\n",
    "install.packages(\"lmtest\")\n",
    "library(\"lmtest\", character.only = TRUE)"
   ]
  },
  {
   "cell_type": "code",
   "execution_count": null,
   "id": "9236176e-211d-4996-8615-85419482c249",
   "metadata": {},
   "outputs": [],
   "source": [
    "# Teste de homocedasticidade\n",
    "bptest(modelo_anova)"
   ]
  },
  {
   "cell_type": "code",
   "execution_count": null,
   "id": "00e5b3c5-1880-468e-84c2-177683320f7e",
   "metadata": {},
   "outputs": [],
   "source": []
  },
  {
   "cell_type": "code",
   "execution_count": null,
   "id": "3b30f338-54fb-4b1a-a633-d25b1bb4089a",
   "metadata": {},
   "outputs": [],
   "source": []
  },
  {
   "cell_type": "code",
   "execution_count": null,
   "id": "df1085ec-63a7-4a72-bdef-5ab594076c7c",
   "metadata": {},
   "outputs": [],
   "source": []
  },
  {
   "cell_type": "code",
   "execution_count": 1,
   "id": "c81f30e1-cfb8-47bc-914e-22489f123ac5",
   "metadata": {},
   "outputs": [
    {
     "name": "stdout",
     "output_type": "stream",
     "text": [
      "       Bloco Variedade Producao\n",
      "1    Bloco I Trocadero      249\n",
      "2    Bloco I  Kumberri      304\n",
      "3    Bloco I    Bokaro      234\n",
      "4   Bloco II Trocadero      313\n",
      "5   Bloco II  Kumberri      354\n",
      "6   Bloco II    Bokaro      290\n",
      "7  Bloco III Trocadero      388\n",
      "8  Bloco III  Kumberri      421\n",
      "9  Bloco III    Bokaro      335\n",
      "10  Bloco IV Trocadero      487\n",
      "11  Bloco IV  Kumberri      459\n",
      "12  Bloco IV    Bokaro      410\n",
      "13   Bloco V Trocadero      350\n",
      "14   Bloco V  Kumberri      430\n",
      "15   Bloco V    Bokaro      341\n"
     ]
    }
   ],
   "source": [
    "dados <- data.frame( \n",
    "Bloco = rep(c(\"Bloco I\", \"Bloco II\", \"Bloco III\", \"Bloco IV\", \"Bloco V\"), \n",
    "each = 3), \n",
    "Variedade = rep(c(\"Trocadero\", \"Kumberri\", \"Bokaro\"), times = 5), \n",
    "Producao = c(249, 304, 234, 313, 354, 290, 388, 421, 335, 487, 459, 410, 350, 430, 341) \n",
    ")\n",
    "\n",
    "print(dados)"
   ]
  },
  {
   "cell_type": "code",
   "execution_count": 2,
   "id": "b7c725ee-0aa4-406e-9537-fad42aaade55",
   "metadata": {},
   "outputs": [
    {
     "data": {
      "text/plain": [
       "            Df Sum Sq Mean Sq F value   Pr(>F)    \n",
       "Variedade    2  12817    6408   14.22  0.00232 ** \n",
       "Bloco        4  60895   15224   33.78 4.66e-05 ***\n",
       "Residuals    8   3605     451                     \n",
       "---\n",
       "Signif. codes:  0 ‘***’ 0.001 ‘**’ 0.01 ‘*’ 0.05 ‘.’ 0.1 ‘ ’ 1"
      ]
     },
     "metadata": {},
     "output_type": "display_data"
    }
   ],
   "source": [
    "modelo <- aov(Producao ~ Variedade + Bloco, data = dados) \n",
    "\n",
    "# Resumo do modelo \n",
    "summary(modelo)"
   ]
  },
  {
   "cell_type": "code",
   "execution_count": 3,
   "id": "6acb7c71-9d05-47bb-a9e7-12d7995146b6",
   "metadata": {},
   "outputs": [
    {
     "data": {
      "text/plain": [
       "\n",
       "\tShapiro-Wilk normality test\n",
       "\n",
       "data:  residuals(modelo)\n",
       "W = 0.96284, p-value = 0.7416\n"
      ]
     },
     "metadata": {},
     "output_type": "display_data"
    }
   ],
   "source": [
    "# Teste de normalidade da amostra\n",
    "shapiro.test(residuals(modelo))"
   ]
  },
  {
   "cell_type": "code",
   "execution_count": 4,
   "id": "47c0b3e1-d496-44ab-a3ab-fa31f9cdd440",
   "metadata": {},
   "outputs": [
    {
     "ename": "ERROR",
     "evalue": "Error in library(\"car\", character.only = TRUE): não há nenhum pacote chamado ‘car’\n",
     "output_type": "error",
     "traceback": [
      "Error in library(\"car\", character.only = TRUE): não há nenhum pacote chamado ‘car’\nTraceback:\n",
      "1. stop(packageNotFoundError(package, lib.loc, sys.call()))"
     ]
    }
   ],
   "source": [
    "# Homogeneidade de variâncias \n",
    "library(\"car\", character.only = TRUE) \n",
    "leveneTest(Producao ~ Variedade, data = dados)"
   ]
  },
  {
   "cell_type": "code",
   "execution_count": 4,
   "id": "32aafee6-524a-4280-9162-39a78b02a869",
   "metadata": {},
   "outputs": [],
   "source": []
  },
  {
   "cell_type": "code",
   "execution_count": 9,
   "id": "cd94e958-7af5-47ef-91c9-7a5fe56a67cc",
   "metadata": {},
   "outputs": [
    {
     "data": {
      "image/png": "[encoded data removed]",
      "text/plain": [
       "Plot with title “”"
      ]
     },
     "metadata": {
      "image/png": {
       "height": 420,
       "width": 420
      }
     },
     "output_type": "display_data"
    }
   ],
   "source": [
    "# plot\n",
    "par(mfrow = c(2, 2)) \n",
    "plot(modelo)"
   ]
  },
  {
   "cell_type": "code",
   "execution_count": null,
   "id": "6900c2cb-9803-483d-9a22-f2b34d1c7413",
   "metadata": {},
   "outputs": [],
   "source": []
  }
 ],
 "metadata": {
  "kernelspec": {
   "display_name": "R",
   "language": "R",
   "name": "ir"
  },
  "language_info": {
   "codemirror_mode": "r",
   "file_extension": ".r",
   "mimetype": "text/x-r-source",
   "name": "R",
   "pygments_lexer": "r",
   "version": "4.4.2"
  }
 },
 "nbformat": 4,
 "nbformat_minor": 5
}
